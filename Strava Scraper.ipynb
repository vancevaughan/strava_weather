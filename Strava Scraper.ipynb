{
 "cells": [
  {
   "cell_type": "code",
   "execution_count": 1,
   "metadata": {},
   "outputs": [],
   "source": [
    "# I realize that this was useless because a line integral along a closed path\n",
    "# in a conservative vector field will always be equal to 0, but I'm leaving it\n",
    "\n",
    "def wind_coeff(windspeed, winddirection, gpx):\n",
    "    wind_vec = (cos(winddirection), sin(winddirection))\n",
    "    dot_prod = 0\n",
    "    vec_count = 0\n",
    "    \n",
    "    # downsample to once per minute\n",
    "    for track in gpx.tracks:\n",
    "        for segment in track.segments:\n",
    "            segment.points = segment.points[0::60]\n",
    "            \n",
    "    for track in gpx.tracks:\n",
    "        for segment in track.segments:\n",
    "            for (index, thing) in enumerate(segment.points[:-1]): \n",
    "                current, next_ = thing, segment.points[index + 1]\n",
    "\n",
    "                lat_a = current.latitude * (pi / 180)\n",
    "                lon_a = current.longitude * (pi / 180)\n",
    "                lat_b = next_.latitude * (pi / 180)\n",
    "                lon_b = next_.longitude * (pi / 180)\n",
    "                delta_long = lon_b - lon_a\n",
    "\n",
    "                x = cos(lat_b) * sin(delta_long)\n",
    "                y = cos(lat_a) * sin(lat_b) - sin(lat_a) * cos(lat_b) * cos(delta_long)\n",
    "                bearing = atan2(x, y)\n",
    "                dot_prod = dot_prod + cos(bearing) * wind_vec[0] + sin(bearing) * wind_vec[1]\n",
    "                vec_count = vec_count + 1\n",
    "                \n",
    "    return (windspeed * dot_prod / vec_count)"
   ]
  },
  {
   "cell_type": "code",
   "execution_count": 2,
   "metadata": {},
   "outputs": [],
   "source": [
    "email = 'YOUR EMAIL/USERNAME'\n",
    "password = 'YOUR PASSWORD'"
   ]
  },
  {
   "cell_type": "code",
   "execution_count": 3,
   "metadata": {},
   "outputs": [
    {
     "name": "stderr",
     "output_type": "stream",
     "text": [
      "[WDM] - Looking for [chromedriver 87.0.4280.88 win32] driver in cache \n",
      "[WDM] - File found in cache by path [C:\\Users\\vance\\.wdm\\drivers\\chromedriver\\87.0.4280.88\\win32\\chromedriver.exe]\n"
     ]
    }
   ],
   "source": [
    "# log in and go to athlete page\n",
    "import re\n",
    "import requests\n",
    "import werkzeug\n",
    "werkzeug.cached_property = werkzeug.utils.cached_property\n",
    "from robobrowser import RoboBrowser\n",
    "from selenium import webdriver\n",
    "from selenium.webdriver.common.keys import Keys\n",
    "from webdriver_manager.chrome import ChromeDriverManager\n",
    "from bs4 import BeautifulSoup as soup\n",
    "from urllib.request import urlopen as ureq\n",
    "import gpxpy\n",
    "import gpxpy.gpx\n",
    "from datetime import datetime\n",
    "import json\n",
    "import pytz\n",
    "import time\n",
    "from meteostat import Stations, Hourly, Daily\n",
    "from math import cos, sin, atan2, pi\n",
    "\n",
    "site = 'https://www.strava.com'\n",
    "login_ext = '/login'\n",
    "\n",
    "driver = webdriver.Chrome(ChromeDriverManager().install())\n",
    "driver.get(site + login_ext)\n",
    "\n",
    "# log in\n",
    "form = driver.find_element_by_id('email')\n",
    "form.send_keys(email, Keys.TAB, password)\n",
    "driver.find_element_by_id('login-button').click()\n",
    "\n",
    "# go to activities page\n",
    "time.sleep(3)\n",
    "driver.find_element_by_xpath(\"/html/body/div[3]/div/div[1]/div/div/div/div[1]/div[1]/ul/li[3]/a/b\").click()\n",
    "\n",
    "# gather all activity links\n",
    "time.sleep(3)\n",
    "page_html = driver.page_source\n",
    "driver.close()\n",
    "page_soup = soup(page_html)"
   ]
  },
  {
   "cell_type": "code",
   "execution_count": 4,
   "metadata": {},
   "outputs": [
    {
     "name": "stderr",
     "output_type": "stream",
     "text": [
      "C:\\Users\\vance\\Anaconda3\\lib\\site-packages\\robobrowser\\browser.py:40: UserWarning: No parser was explicitly specified, so I'm using the best available HTML parser for this system (\"lxml\"). This usually isn't a problem, but if you run this code on another system, or in a different virtual environment, it may use a different parser and behave differently.\n",
      "\n",
      "The code that caused this warning is on line 40 of the file C:\\Users\\vance\\Anaconda3\\lib\\site-packages\\robobrowser\\browser.py. To get rid of this warning, pass the additional argument 'features=\"lxml\"' to the BeautifulSoup constructor.\n",
      "\n",
      "  features=self.browser.parser,\n"
     ]
    }
   ],
   "source": [
    "# find all activity links\n",
    "activities = page_soup.findAll('td', {'class': 'view-col col-title'})\n",
    "\n",
    "links = []\n",
    "for activity in activities:\n",
    "    links.append(activity.a['href'])\n",
    "\n",
    "br = RoboBrowser()\n",
    "br.open(site + login_ext)\n",
    "\n",
    "form = br.get_form()\n",
    "form['email'] = email\n",
    "form['password'] = password\n",
    "br.submit_form(form)"
   ]
  },
  {
   "cell_type": "code",
   "execution_count": 5,
   "metadata": {},
   "outputs": [
    {
     "name": "stderr",
     "output_type": "stream",
     "text": [
      "C:\\Users\\vance\\Anaconda3\\lib\\site-packages\\robobrowser\\browser.py:40: UserWarning: No parser was explicitly specified, so I'm using the best available HTML parser for this system (\"lxml\"). This usually isn't a problem, but if you run this code on another system, or in a different virtual environment, it may use a different parser and behave differently.\n",
      "\n",
      "The code that caused this warning is on line 40 of the file C:\\Users\\vance\\Anaconda3\\lib\\site-packages\\robobrowser\\browser.py. To get rid of this warning, pass the additional argument 'features=\"lxml\"' to the BeautifulSoup constructor.\n",
      "\n",
      "  features=self.browser.parser,\n"
     ]
    }
   ],
   "source": [
    "# open each activity page\n",
    "for (index, activity) in enumerate(links):\n",
    "    br.open(activity)\n",
    "    description_cont = br.find_all('div', {'class': 'activity-description'})\n",
    "    description = \"\"\n",
    "    \n",
    "    if len(description_cont) != 0:\n",
    "        description = description_cont[0].select('div > p')[0].get_text()\n",
    "        \n",
    "    if 'WEATHER:\\n' not in description:\n",
    "        # download GPX file\n",
    "        gpx_url = activity + '/export_gpx'\n",
    "        \n",
    "        br.open(gpx_url)\n",
    "        gpx = str(br.parsed()[0])[12:-15]\n",
    "        \n",
    "        # find location\n",
    "        gpx = gpxpy.parse(gpx)\n",
    "        lat = gpx.tracks[0].segments[0].points[0].latitude\n",
    "        lon = gpx.tracks[0].segments[0].points[0].longitude\n",
    "        time = gpx.tracks[0].segments[0].points[0].time\n",
    "        \n",
    "        # get meteostat ID of nearest station\n",
    "        stations = Stations()\n",
    "        station_id = stations.nearby(lat, lon).fetch(1).index[0]\n",
    "\n",
    "        # get hourly weather at nearest station\n",
    "        time = time.astimezone(pytz.timezone('US/Central'))\n",
    "        start = datetime(time.year, time.month, time.day, time.hour, time.minute, time.second)\n",
    "\n",
    "        if time.hour == 23:\n",
    "            time = time.astimezone(pytz.timezone('US/Eastern'))\n",
    "        end = datetime(time.year, time.month, time.day, time.hour + 1, time.minute, time.second)\n",
    "\n",
    "        weather_data = Hourly(station_id, start, end).fetch()\n",
    "\n",
    "        temperature = round(weather_data['temp'][0] * 9 / 5 + 32)\n",
    "        humidity = weather_data['rhum'][0]\n",
    "        windspeed = 0.621 * weather_data['wspd'][0]\n",
    "        winddirection = weather_data['wdir'][0] * (pi / 180)\n",
    "        precipitation = weather_data['prcp'][0]\n",
    "                \n",
    "        # compute wind coefficient\n",
    "        wind_co = wind_coeff(windspeed, winddirection, gpx)\n",
    "        \n",
    "        # write to description\n",
    "        weather_report = ''\n",
    "        \n",
    "        if description != \"\":\n",
    "            weather_report = '\\n------------------\\n'\n",
    "            \n",
    "        weather_report = weather_report + 'WEATHER:\\n'\n",
    "        weather_report = weather_report + 'Temperature: ' + str(temperature) + '°F, '\n",
    "        weather_report = weather_report + 'Humidity: ' + str(humidity) + '%, '\n",
    "        weather_report = weather_report + 'Wind: ' + str(round(wind_co)) + ', '\n",
    "        weather_report = weather_report + 'Precipitation: ' + str(precipitation)\n",
    "        \n",
    "        updated_description = description + weather_report\n",
    "        \n",
    "        br.open(activity + '/edit')\n",
    "        \n",
    "        form = br.get_form(id = 'edit-activity')\n",
    "        form['activity[description]'] = updated_description\n",
    "        \n",
    "        br.submit_form(form)"
   ]
  }
 ],
 "metadata": {
  "kernelspec": {
   "display_name": "Python 3",
   "language": "python",
   "name": "python3"
  },
  "language_info": {
   "codemirror_mode": {
    "name": "ipython",
    "version": 3
   },
   "file_extension": ".py",
   "mimetype": "text/x-python",
   "name": "python",
   "nbconvert_exporter": "python",
   "pygments_lexer": "ipython3",
   "version": "3.7.4"
  }
 },
 "nbformat": 4,
 "nbformat_minor": 4
}
